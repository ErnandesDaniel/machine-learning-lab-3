{
  "nbformat": 4,
  "nbformat_minor": 0,
  "metadata": {
    "colab": {
      "provenance": []
    },
    "kernelspec": {
      "name": "python3",
      "display_name": "Python 3"
    },
    "language_info": {
      "name": "python"
    }
  },
  "cells": [
    {
      "cell_type": "code",
      "execution_count": null,
      "metadata": {
        "id": "FxmSlWGf2rbc"
      },
      "outputs": [],
      "source": [
        "# Импорт Pandas для работы с DataFrame\n",
        "import pandas as pd"
      ]
    },
    {
      "cell_type": "code",
      "source": [
        "# Чтение CSV-файла в DataFrame\n",
        "df = pd.read_csv(\"Lab3.csv\")\n",
        "\n",
        "# Вывод первых 5 строк для проверки\n",
        "print(df.head())"
      ],
      "metadata": {
        "colab": {
          "base_uri": "https://localhost:8080/"
        },
        "id": "FggqDWGm3dm9",
        "outputId": "35e90da6-42c9-447c-f916-2184935ab01a"
      },
      "execution_count": null,
      "outputs": [
        {
          "output_type": "stream",
          "name": "stdout",
          "text": [
            "               country  child_mort  exports  health  imports  income  \\\n",
            "0          Afghanistan        90.2     10.0    7.58     44.9    1610   \n",
            "1              Albania        16.6     28.0    6.55     48.6    9930   \n",
            "2              Algeria        27.3     38.4    4.17     31.4   12900   \n",
            "3               Angola       119.0     62.3    2.85     42.9    5900   \n",
            "4  Antigua and Barbuda        10.3     45.5    6.03     58.9   19100   \n",
            "\n",
            "   inflation  life_expec  total_fer   gdpp  \n",
            "0       9.44        56.2       5.82    553  \n",
            "1       4.49        76.3       1.65   4090  \n",
            "2      16.10        76.5       2.89   4460  \n",
            "3      22.40        60.1       6.16   3530  \n",
            "4       1.44        76.8       2.13  12200  \n"
          ]
        }
      ]
    },
    {
      "cell_type": "code",
      "source": [
        "# удаление ненужного столбца\n",
        "df = df.drop(columns=['country'])"
      ],
      "metadata": {
        "id": "biYAwoDD-LO6"
      },
      "execution_count": null,
      "outputs": []
    },
    {
      "cell_type": "code",
      "source": [
        "# Признаки с инверсией (ниже = хуже → преобразуем в \"выше = хуже\")\n",
        "df['life_expec_inv'] = df['life_expec'].max() - df['life_expec']\n",
        "df['gdpp_inv'] = df['gdpp'].max() - df['gdpp']\n",
        "df['income_inv'] = df['income'].max() - df['income']\n",
        "df['health_inv'] = df['health'].max() - df['health']"
      ],
      "metadata": {
        "id": "B0FSbktd3d2J"
      },
      "execution_count": null,
      "outputs": []
    },
    {
      "cell_type": "code",
      "source": [
        "from sklearn.preprocessing import StandardScaler\n",
        "\n",
        "scaler = StandardScaler()\n",
        "df_scaled = scaler.fit_transform(df)"
      ],
      "metadata": {
        "id": "uPqSO-Jt3d-c"
      },
      "execution_count": null,
      "outputs": []
    },
    {
      "cell_type": "code",
      "source": [
        "from sklearn.cluster import KMeans\n",
        "\n",
        "kmeans = KMeans(n_clusters=3, random_state=42, n_init=10)\n",
        "df['cluster_kmeans'] = kmeans.fit_predict(df_scaled)"
      ],
      "metadata": {
        "id": "r5ydVnAJ3ehx"
      },
      "execution_count": null,
      "outputs": []
    },
    {
      "cell_type": "code",
      "source": [
        "print(df)"
      ],
      "metadata": {
        "colab": {
          "base_uri": "https://localhost:8080/"
        },
        "id": "02rPWtqZ3fDR",
        "outputId": "62144fdf-33ce-4ac9-c0d9-e3db1d8858d1"
      },
      "execution_count": null,
      "outputs": [
        {
          "output_type": "stream",
          "name": "stdout",
          "text": [
            "     child_mort  exports  health  imports  income  inflation  life_expec  \\\n",
            "0          90.2     10.0    7.58     44.9    1610       9.44        56.2   \n",
            "1          16.6     28.0    6.55     48.6    9930       4.49        76.3   \n",
            "2          27.3     38.4    4.17     31.4   12900      16.10        76.5   \n",
            "3         119.0     62.3    2.85     42.9    5900      22.40        60.1   \n",
            "4          10.3     45.5    6.03     58.9   19100       1.44        76.8   \n",
            "..          ...      ...     ...      ...     ...        ...         ...   \n",
            "162        29.2     46.6    5.25     52.7    2950       2.62        63.0   \n",
            "163        17.1     28.5    4.91     17.6   16500      45.90        75.4   \n",
            "164        23.3     72.0    6.84     80.2    4490      12.10        73.1   \n",
            "165        56.3     30.0    5.18     34.4    4480      23.60        67.5   \n",
            "166        83.1     37.0    5.89     30.9    3280      14.00        52.0   \n",
            "\n",
            "     total_fer   gdpp  life_expec_inv  gdpp_inv  income_inv  health_inv  \\\n",
            "0         5.82    553            26.6    104447      123390       10.32   \n",
            "1         1.65   4090             6.5    100910      115070       11.35   \n",
            "2         2.89   4460             6.3    100540      112100       13.73   \n",
            "3         6.16   3530            22.7    101470      119100       15.05   \n",
            "4         2.13  12200             6.0     92800      105900       11.87   \n",
            "..         ...    ...             ...       ...         ...         ...   \n",
            "162       3.50   2970            19.8    102030      122050       12.65   \n",
            "163       2.47  13500             7.4     91500      108500       12.99   \n",
            "164       1.95   1310             9.7    103690      120510       11.06   \n",
            "165       4.67   1310            15.3    103690      120520       12.72   \n",
            "166       5.40   1460            30.8    103540      121720       12.01   \n",
            "\n",
            "     cluster_kmeans  \n",
            "0                 0  \n",
            "1                 2  \n",
            "2                 2  \n",
            "3                 0  \n",
            "4                 2  \n",
            "..              ...  \n",
            "162               2  \n",
            "163               2  \n",
            "164               2  \n",
            "165               0  \n",
            "166               0  \n",
            "\n",
            "[167 rows x 14 columns]\n"
          ]
        }
      ]
    },
    {
      "cell_type": "code",
      "source": [
        "# Средние по кластерам\n",
        "summary = df.groupby('cluster')[['child_mort', 'gdpp', 'life_expec', 'income', 'total_fer']].mean()\n",
        "print(summary)"
      ],
      "metadata": {
        "id": "LInkmM9L3fLJ"
      },
      "execution_count": null,
      "outputs": []
    },
    {
      "cell_type": "code",
      "source": [],
      "metadata": {
        "id": "p7zox1bF3fV6"
      },
      "execution_count": null,
      "outputs": []
    }
  ]
}