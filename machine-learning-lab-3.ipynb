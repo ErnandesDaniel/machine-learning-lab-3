{
  "nbformat": 4,
  "nbformat_minor": 0,
  "metadata": {
    "colab": {
      "provenance": []
    },
    "kernelspec": {
      "name": "python3",
      "display_name": "Python 3"
    },
    "language_info": {
      "name": "python"
    }
  },
  "cells": [
    {
      "cell_type": "code",
      "execution_count": 5,
      "metadata": {
        "id": "FxmSlWGf2rbc"
      },
      "outputs": [],
      "source": [
        "# Импорт Pandas для работы с DataFrame\n",
        "import pandas as pd"
      ]
    },
    {
      "cell_type": "code",
      "source": [
        "# Чтение CSV-файла в DataFrame\n",
        "initial_df = pd.read_csv(\"Lab3.csv\")\n",
        "\n",
        "# Вывод первых 5 строк для проверки\n",
        "print(initial_df.head())"
      ],
      "metadata": {
        "colab": {
          "base_uri": "https://localhost:8080/"
        },
        "id": "FggqDWGm3dm9",
        "outputId": "66b0b22a-3cc1-4b70-c338-7f4248c63e58"
      },
      "execution_count": 7,
      "outputs": [
        {
          "output_type": "stream",
          "name": "stdout",
          "text": [
            "               country  child_mort  exports  health  imports  income  \\\n",
            "0          Afghanistan        90.2     10.0    7.58     44.9    1610   \n",
            "1              Albania        16.6     28.0    6.55     48.6    9930   \n",
            "2              Algeria        27.3     38.4    4.17     31.4   12900   \n",
            "3               Angola       119.0     62.3    2.85     42.9    5900   \n",
            "4  Antigua and Barbuda        10.3     45.5    6.03     58.9   19100   \n",
            "\n",
            "   inflation  life_expec  total_fer   gdpp  \n",
            "0       9.44        56.2       5.82    553  \n",
            "1       4.49        76.3       1.65   4090  \n",
            "2      16.10        76.5       2.89   4460  \n",
            "3      22.40        60.1       6.16   3530  \n",
            "4       1.44        76.8       2.13  12200  \n"
          ]
        }
      ]
    },
    {
      "cell_type": "code",
      "source": [
        "# удаление ненужного столбца\n",
        "df = initial_df.drop(columns=['country'])"
      ],
      "metadata": {
        "id": "biYAwoDD-LO6"
      },
      "execution_count": 9,
      "outputs": []
    },
    {
      "cell_type": "code",
      "source": [
        "# Вывод количества пропусков по всем столбцам\n",
        "print(\"Пропущенные значения по всем столбцам:\")\n",
        "print(df.isnull().sum())"
      ],
      "metadata": {
        "colab": {
          "base_uri": "https://localhost:8080/"
        },
        "id": "yJMdMAL3YGZf",
        "outputId": "799c2a34-8cb8-44d9-ebaf-e0af3289f3ac"
      },
      "execution_count": 10,
      "outputs": [
        {
          "output_type": "stream",
          "name": "stdout",
          "text": [
            "Пропущенные значения по всем столбцам:\n",
            "child_mort    0\n",
            "exports       0\n",
            "health        0\n",
            "imports       0\n",
            "income        0\n",
            "inflation     0\n",
            "life_expec    0\n",
            "total_fer     0\n",
            "gdpp          0\n",
            "dtype: int64\n"
          ]
        }
      ]
    },
    {
      "cell_type": "code",
      "source": [
        "# Обрабатываем признаки с инверсией (ниже = хуже → преобразуем в \"выше = хуже\")\n",
        "df['life_expec_inv'] = df['life_expec'].max() - df['life_expec']\n",
        "df['gdpp_inv'] = df['gdpp'].max() - df['gdpp']\n",
        "df['income_inv'] = df['income'].max() - df['income']\n",
        "df['health_inv'] = df['health'].max() - df['health']"
      ],
      "metadata": {
        "id": "B0FSbktd3d2J"
      },
      "execution_count": 11,
      "outputs": []
    },
    {
      "cell_type": "code",
      "source": [
        "from sklearn.preprocessing import StandardScaler\n",
        "\n",
        "scaler = StandardScaler()\n",
        "\n",
        "#Нормализуем данные\n",
        "df_scaled = scaler.fit_transform(df)"
      ],
      "metadata": {
        "id": "uPqSO-Jt3d-c"
      },
      "execution_count": 13,
      "outputs": []
    },
    {
      "cell_type": "code",
      "source": [
        "from sklearn.cluster import KMeans\n",
        "\n",
        "#Обучаем модель для кластеризации на основе k-средних\n",
        "kmeans = KMeans(n_clusters=3, random_state=42, n_init=10)\n",
        "df['cluster_kmeans'] = kmeans.fit_predict(df_scaled)"
      ],
      "metadata": {
        "id": "r5ydVnAJ3ehx"
      },
      "execution_count": 14,
      "outputs": []
    },
    {
      "cell_type": "code",
      "source": [
        "print(df)"
      ],
      "metadata": {
        "colab": {
          "base_uri": "https://localhost:8080/"
        },
        "id": "02rPWtqZ3fDR",
        "outputId": "510490cb-d197-46fb-c327-68624c19772d"
      },
      "execution_count": 15,
      "outputs": [
        {
          "output_type": "stream",
          "name": "stdout",
          "text": [
            "     child_mort  exports  health  imports  income  inflation  life_expec  \\\n",
            "0          90.2     10.0    7.58     44.9    1610       9.44        56.2   \n",
            "1          16.6     28.0    6.55     48.6    9930       4.49        76.3   \n",
            "2          27.3     38.4    4.17     31.4   12900      16.10        76.5   \n",
            "3         119.0     62.3    2.85     42.9    5900      22.40        60.1   \n",
            "4          10.3     45.5    6.03     58.9   19100       1.44        76.8   \n",
            "..          ...      ...     ...      ...     ...        ...         ...   \n",
            "162        29.2     46.6    5.25     52.7    2950       2.62        63.0   \n",
            "163        17.1     28.5    4.91     17.6   16500      45.90        75.4   \n",
            "164        23.3     72.0    6.84     80.2    4490      12.10        73.1   \n",
            "165        56.3     30.0    5.18     34.4    4480      23.60        67.5   \n",
            "166        83.1     37.0    5.89     30.9    3280      14.00        52.0   \n",
            "\n",
            "     total_fer   gdpp  life_expec_inv  gdpp_inv  income_inv  health_inv  \\\n",
            "0         5.82    553            26.6    104447      123390       10.32   \n",
            "1         1.65   4090             6.5    100910      115070       11.35   \n",
            "2         2.89   4460             6.3    100540      112100       13.73   \n",
            "3         6.16   3530            22.7    101470      119100       15.05   \n",
            "4         2.13  12200             6.0     92800      105900       11.87   \n",
            "..         ...    ...             ...       ...         ...         ...   \n",
            "162       3.50   2970            19.8    102030      122050       12.65   \n",
            "163       2.47  13500             7.4     91500      108500       12.99   \n",
            "164       1.95   1310             9.7    103690      120510       11.06   \n",
            "165       4.67   1310            15.3    103690      120520       12.72   \n",
            "166       5.40   1460            30.8    103540      121720       12.01   \n",
            "\n",
            "     cluster_kmeans  \n",
            "0                 0  \n",
            "1                 2  \n",
            "2                 2  \n",
            "3                 0  \n",
            "4                 2  \n",
            "..              ...  \n",
            "162               2  \n",
            "163               2  \n",
            "164               2  \n",
            "165               0  \n",
            "166               0  \n",
            "\n",
            "[167 rows x 14 columns]\n"
          ]
        }
      ]
    },
    {
      "cell_type": "code",
      "source": [
        "# Средние по кластерам\n",
        "summary = df.groupby('cluster_kmeans')[['child_mort', 'gdpp', 'life_expec', 'income', 'total_fer']].mean()\n",
        "print(summary)"
      ],
      "metadata": {
        "id": "LInkmM9L3fLJ",
        "colab": {
          "base_uri": "https://localhost:8080/"
        },
        "outputId": "195fc4c2-407d-4c00-c2a9-5ee5e31d36c6"
      },
      "execution_count": 16,
      "outputs": [
        {
          "output_type": "stream",
          "name": "stdout",
          "text": [
            "                child_mort          gdpp  life_expec        income  total_fer\n",
            "cluster_kmeans                                                               \n",
            "0                90.557143   1928.612245   59.365306   3885.979592   4.960816\n",
            "1                 4.903125  45331.250000   80.484375  47475.000000   1.774062\n",
            "2                20.894186   7208.279070   73.237209  13413.372093   2.237907\n"
          ]
        }
      ]
    },
    {
      "cell_type": "code",
      "source": [
        "# Найдем страну, ближайшая к центроиду кластера\n",
        "\n",
        "from sklearn.metrics.pairwise import euclidean_distances\n",
        "\n",
        "centroids = kmeans.cluster_centers_\n",
        "distances = euclidean_distances(df_scaled, centroids)\n",
        "\n",
        "representative_countries = []\n",
        "\n",
        "for cluster_id in range(kmeans.n_clusters):\n",
        "    mask = df['cluster_kmeans'] == cluster_id\n",
        "    if mask.sum() == 0:\n",
        "        representative_countries.append(\"Нет стран\")\n",
        "        continue\n",
        "\n",
        "    cluster_distances = distances[mask, cluster_id]\n",
        "    closest_idx_in_cluster = cluster_distances.argmin()\n",
        "\n",
        "    # Получаем ИСТИННЫЙ ИНДЕКС строки в исходном df (и initial_df)\n",
        "    original_index = df[mask].index[closest_idx_in_cluster]\n",
        "\n",
        "    # Берём название страны из initial_df по этому индексу\n",
        "    country_name = initial_df.loc[original_index, 'country']\n",
        "    representative_countries.append(country_name)\n",
        "\n",
        "print(\"Эталонные страны по кластерам:\", representative_countries)\n"
      ],
      "metadata": {
        "id": "p7zox1bF3fV6",
        "colab": {
          "base_uri": "https://localhost:8080/"
        },
        "outputId": "e476e61f-4a17-4eed-8f7a-ca122e2c050d"
      },
      "execution_count": 22,
      "outputs": [
        {
          "output_type": "stream",
          "name": "stdout",
          "text": [
            "Эталонные страны по кластерам: ['Tanzania', 'Iceland', 'Paraguay']\n"
          ]
        }
      ]
    },
    {
      "cell_type": "code",
      "source": [
        "# Выберираем ключевые социально-экономические признаки\n",
        "key_features = ['child_mort', 'gdpp', 'life_expec', 'income', 'health', 'total_fer']\n",
        "\n",
        "cluster_summary = df.groupby('cluster_kmeans')[key_features].mean()\n",
        "print(cluster_summary)"
      ],
      "metadata": {
        "colab": {
          "base_uri": "https://localhost:8080/"
        },
        "id": "z9zp-QNCLlH3",
        "outputId": "fc7e4283-e7b6-406f-d7e3-110ca76a55cc"
      },
      "execution_count": 23,
      "outputs": [
        {
          "output_type": "stream",
          "name": "stdout",
          "text": [
            "                child_mort          gdpp  life_expec        income    health  \\\n",
            "cluster_kmeans                                                                 \n",
            "0                90.557143   1928.612245   59.365306   3885.979592  6.592041   \n",
            "1                 4.903125  45331.250000   80.484375  47475.000000  9.015937   \n",
            "2                20.894186   7208.279070   73.237209  13413.372093  6.124419   \n",
            "\n",
            "                total_fer  \n",
            "cluster_kmeans             \n",
            "0                4.960816  \n",
            "1                1.774062  \n",
            "2                2.237907  \n"
          ]
        }
      ]
    },
    {
      "cell_type": "markdown",
      "source": [
        "кластер с самыми высокими значениями по всем колонкам — это и есть группа стран, которым нужна помощь в первую очередь (так как была инверсия)."
      ],
      "metadata": {
        "id": "-q5u_J9dLrqJ"
      }
    }
  ]
}