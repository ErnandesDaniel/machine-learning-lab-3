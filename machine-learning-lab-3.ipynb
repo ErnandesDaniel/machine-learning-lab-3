{
 "nbformat": 4,
 "nbformat_minor": 0,
 "metadata": {
  "colab": {
   "provenance": []
  },
  "kernelspec": {
   "name": "python3",
   "display_name": "Python 3"
  },
  "language_info": {
   "name": "python"
  }
 },
 "cells": [
  {
   "cell_type": "code",
   "metadata": {
    "id": "UR-c4HEw0I_b",
    "ExecuteTime": {
     "end_time": "2025-10-12T13:01:13.607448Z",
     "start_time": "2025-10-12T13:01:13.604637Z"
    }
   },
   "source": [
    "# Импорт Pandas для работы с DataFrame\n",
    "import pandas as pd"
   ],
   "outputs": [],
   "execution_count": 3
  },
  {
   "cell_type": "code",
   "source": [
    "# Чтение CSV-файла в DataFrame\n",
    "df = pd.read_csv(\"Bank_data.csv\")\n",
    "\n",
    "# Вывод первых 5 строк для проверки\n",
    "print(df.head())\n"
   ],
   "metadata": {
    "colab": {
     "base_uri": "https://localhost:8080/"
    },
    "id": "MJ5f6-wqFU9t",
    "outputId": "15c05307-c4d4-480b-dbc6-5d05228e7354",
    "ExecuteTime": {
     "end_time": "2025-10-12T13:01:22.616950Z",
     "start_time": "2025-10-12T13:01:22.592886Z"
    }
   },
   "outputs": [
    {
     "name": "stdout",
     "output_type": "stream",
     "text": [
      "   RowNumber  CustomerId   Surname  CreditScore Geography  Gender  Age  \\\n",
      "0          1    15634602  Hargrave          619    France  Female   42   \n",
      "1          2    15647311      Hill          608     Spain  Female   41   \n",
      "2          3    15619304      Onio          502    France  Female   42   \n",
      "3          4    15701354      Boni          699    France  Female   39   \n",
      "4          5    15737888  Mitchell          850     Spain  Female   43   \n",
      "\n",
      "   Tenure    Balance  NumOfProducts  HasCrCard  IsActiveMember  \\\n",
      "0     2.0       0.00              1          1               1   \n",
      "1     1.0   83807.86              1          0               1   \n",
      "2     8.0  159660.80              3          1               0   \n",
      "3     1.0       0.00              2          0               0   \n",
      "4     2.0  125510.82              1          1               1   \n",
      "\n",
      "   EstimatedSalary  Exited  \n",
      "0        101348.88       1  \n",
      "1        112542.58       0  \n",
      "2        113931.57       1  \n",
      "3         93826.63       0  \n",
      "4         79084.10       0  \n"
     ]
    }
   ],
   "execution_count": 17
  },
  {
   "cell_type": "code",
   "source": [
    "# удаление ненужного столбца\n",
    "df = df.drop(columns=['RowNumber', 'Surname'])"
   ],
   "metadata": {
    "id": "qL-217ToIL7c"
   },
   "execution_count": 59,
   "outputs": []
  },
  {
   "cell_type": "code",
   "source": [
    "#Преобразуем все ошибочные типы данных\n",
    "\n",
    "\n",
    "# Числовые непрерывные признаки (должны быть float)\n",
    "numeric_float_cols = ['Balance', 'EstimatedSalary']\n",
    "\n",
    "for col in numeric_float_cols:\n",
    "    df[col] = pd.to_numeric(df[col], errors='coerce')  # Нечисловое → NaN\n",
    "\n",
    "# Целочисленные признаки (должны быть целыми числами)\n",
    "numeric_int_cols = ['CreditScore', 'Age', 'Tenure', 'NumOfProducts', 'CustomerId']\n",
    "\n",
    "for col in numeric_int_cols:\n",
    "    df[col] = pd.to_numeric(df[col], errors='coerce')\n",
    "    # Приведём к nullable integer (Int64), чтобы поддерживать NaN\n",
    "    df[col] = df[col].astype('Int64')\n",
    "\n",
    "# Преобразование булевого типа в числовой (0 и 1)\n",
    "df['HasCrCard'] = df['HasCrCard'].astype('Int64')\n",
    "df['IsActiveMember'] = df['IsActiveMember'].astype('Int64')\n",
    "df['Exited'] = df['Exited'].astype('Int64')\n",
    "\n",
    "# Преобразование гендера\n",
    "df['Gender'] = df['Gender'].map({'Female': 0, 'Male': 1})\n",
    "\n",
    "# Проверка уникальных значений сран\n",
    "print(df['Geography'].unique())\n",
    "\n",
    "# Кодируем страну\n",
    "df = pd.get_dummies(df, columns=['Geography'], dtype='int64')\n",
    "\n",
    "# Проверка итоговых типов\n",
    "print(\"Итоговые типы данных:\")\n",
    "print(df.dtypes)\n",
    "\n"
   ],
   "metadata": {
    "colab": {
     "base_uri": "https://localhost:8080/"
    },
    "id": "6CUrw6rnFmz_",
    "outputId": "cfbc638d-d917-439f-da4c-2944a9d42ca0"
   },
   "execution_count": 60,
   "outputs": [
    {
     "output_type": "stream",
     "name": "stdout",
     "text": [
      "['France' 'Spain' 'Germany']\n",
      "Итоговые типы данных:\n",
      "CustomerId             Int64\n",
      "CreditScore            Int64\n",
      "Gender                 int64\n",
      "Age                    Int64\n",
      "Tenure                 Int64\n",
      "Balance              float64\n",
      "NumOfProducts          Int64\n",
      "HasCrCard              Int64\n",
      "IsActiveMember         Int64\n",
      "EstimatedSalary      float64\n",
      "Exited                 Int64\n",
      "Geography_France       int64\n",
      "Geography_Germany      int64\n",
      "Geography_Spain        int64\n",
      "dtype: object\n"
     ]
    }
   ]
  },
  {
   "cell_type": "code",
   "source": [
    "# Вывод количества пропусков по всем столбцам\n",
    "print(\"Пропущенные значения по всем столбцам:\")\n",
    "print(df.isnull().sum())"
   ],
   "metadata": {
    "colab": {
     "base_uri": "https://localhost:8080/"
    },
    "id": "c9Dv9swzRxYn",
    "outputId": "4758419a-1198-45b6-94de-397d5c63e214"
   },
   "execution_count": 61,
   "outputs": [
    {
     "output_type": "stream",
     "name": "stdout",
     "text": [
      "Пропущенные значения по всем столбцам:\n",
      "CustomerId             0\n",
      "CreditScore            0\n",
      "Gender                 0\n",
      "Age                    0\n",
      "Tenure               909\n",
      "Balance                0\n",
      "NumOfProducts          0\n",
      "HasCrCard              0\n",
      "IsActiveMember         0\n",
      "EstimatedSalary        0\n",
      "Exited                 0\n",
      "Geography_France       0\n",
      "Geography_Germany      0\n",
      "Geography_Spain        0\n",
      "dtype: int64\n"
     ]
    }
   ]
  },
  {
   "cell_type": "code",
   "source": [
    "# Корреляция Пирсона между Tenure и всеми остальными признаками\n",
    "corr_with_price = df.corr()['Tenure'].sort_values(key=abs, ascending=False)\n",
    "print(corr_with_price)"
   ],
   "metadata": {
    "colab": {
     "base_uri": "https://localhost:8080/"
    },
    "id": "dFOjZ_6TUAyr",
    "outputId": "2b6b080c-e3ef-48bd-9271-8bf6a2d50260"
   },
   "execution_count": 62,
   "outputs": [
    {
     "output_type": "stream",
     "name": "stdout",
     "text": [
      "Tenure               1.000000\n",
      "IsActiveMember      -0.032178\n",
      "HasCrCard            0.027232\n",
      "CustomerId          -0.021418\n",
      "Exited              -0.016761\n",
      "Age                 -0.013134\n",
      "Gender               0.012634\n",
      "NumOfProducts        0.011979\n",
      "EstimatedSalary      0.010520\n",
      "Balance             -0.007911\n",
      "Geography_Germany   -0.003299\n",
      "Geography_France     0.002167\n",
      "Geography_Spain      0.000810\n",
      "CreditScore         -0.000062\n",
      "Name: Tenure, dtype: float64\n"
     ]
    }
   ]
  },
  {
   "cell_type": "markdown",
   "source": [
    "Tenure не коррелирует с другими параметрами меньше 4%, значит можно заменить на медиану"
   ],
   "metadata": {
    "id": "4RN5_-9DUy1K"
   }
  },
  {
   "cell_type": "code",
   "source": [
    "# Заполним пропуски медианой (лучше всего подходит для Tenure)\n",
    "df['Tenure'] = df['Tenure'].fillna(df['Tenure'].median()).astype('Int64')\n",
    "\n",
    "# Проверим, что пропусков больше нет\n",
    "print(\"Пропуски после обработки:\")\n",
    "print(df['Tenure'].isnull().sum())"
   ],
   "metadata": {
    "colab": {
     "base_uri": "https://localhost:8080/"
    },
    "id": "4ELHHpwhTbBe",
    "outputId": "8d61c444-7432-4eb4-89aa-cab2d95163e9"
   },
   "execution_count": 63,
   "outputs": [
    {
     "output_type": "stream",
     "name": "stdout",
     "text": [
      "Пропуски после обработки:\n",
      "0\n"
     ]
    }
   ]
  },
  {
   "cell_type": "code",
   "source": [
    "# Посчитать количество дубликатов ДО удаления\n",
    "num_duplicates = df.duplicated(subset=['CustomerId']).sum()\n",
    "print(f\"Найдено дубликатов: {num_duplicates}\")\n",
    "\n",
    "# Удалить дубликаты\n",
    "df = df.drop_duplicates(subset=['CustomerId'])\n",
    "\n",
    "# Убедиться, что их больше нет\n",
    "print(\"Дубликатов после удаления:\", df.duplicated().sum())"
   ],
   "metadata": {
    "colab": {
     "base_uri": "https://localhost:8080/"
    },
    "id": "US-gkOXiT_g-",
    "outputId": "aa571a4b-efc0-43c7-aa67-9d9c5f420015"
   },
   "execution_count": 64,
   "outputs": [
    {
     "output_type": "stream",
     "name": "stdout",
     "text": [
      "Найдено дубликатов: 0\n",
      "Дубликатов после удаления: 0\n"
     ]
    }
   ]
  },
  {
   "cell_type": "code",
   "source": [
    "#Рапределяем данные по целевой переменной\n",
    "target_counts = df['Exited'].value_counts()\n",
    "target_ratios = df['Exited'].value_counts(normalize=True)\n",
    "\n",
    "print(\"Абсолютные частоты:\")\n",
    "print(target_counts)\n",
    "print(\"\\nОтносительные частоты:\")\n",
    "print(target_ratios)"
   ],
   "metadata": {
    "id": "M2-YIONPUBfU",
    "colab": {
     "base_uri": "https://localhost:8080/"
    },
    "outputId": "e2d9bacf-5013-4d61-8ade-dde236aedc03"
   },
   "execution_count": 65,
   "outputs": [
    {
     "output_type": "stream",
     "name": "stdout",
     "text": [
      "Абсолютные частоты:\n",
      "Exited\n",
      "0    7963\n",
      "1    2037\n",
      "Name: count, dtype: Int64\n",
      "\n",
      "Относительные частоты:\n",
      "Exited\n",
      "0    0.7963\n",
      "1    0.2037\n",
      "Name: proportion, dtype: Float64\n"
     ]
    }
   ]
  },
  {
   "cell_type": "code",
   "source": [
    "# Вычисляем коэффициент дисбаланса\n",
    "# Предполагаем, что классы — это 0 и 1\n",
    "minority_class_count = target_counts.min()\n",
    "majority_class_count = target_counts.max()\n",
    "\n",
    "# Вариант 1: отношение меньшинства к большинству (всегда <= 1)\n",
    "imbalance_ratio_minority_to_majority = minority_class_count / majority_class_count\n",
    "\n",
    "# Вариант 2: отношение большинства к меньшинству (всегда >= 1)\n",
    "imbalance_ratio_majority_to_minority = majority_class_count / minority_class_count\n",
    "\n",
    "\n",
    "print(f\"\\nКоэффициент дисбаланса (меньшинство / большинство): {imbalance_ratio_minority_to_majority:.4f}\")\n",
    "print(f\"Коэффициент дисбаланса (большинство / меньшинство): {imbalance_ratio_majority_to_minority:.4f}\")"
   ],
   "metadata": {
    "id": "ydsJ2FXxUBtP",
    "colab": {
     "base_uri": "https://localhost:8080/"
    },
    "outputId": "bbfd0868-7fbf-42a2-cab8-f690572a0ffc"
   },
   "execution_count": 66,
   "outputs": [
    {
     "output_type": "stream",
     "name": "stdout",
     "text": [
      "\n",
      "Коэффициент дисбаланса (меньшинство / большинство): 0.2558\n",
      "Коэффициент дисбаланса (большинство / меньшинство): 3.9092\n"
     ]
    }
   ]
  },
  {
   "cell_type": "markdown",
   "source": [
    "целевая переменная Exited является несбалансированной\n"
   ],
   "metadata": {
    "id": "nSfH2N3D43da"
   }
  },
  {
   "cell_type": "code",
   "source": [
    "# Импортируем функцию для разделения данных на обучающую и тестовую выборки\n",
    "from sklearn.model_selection import train_test_split\n",
    "\n",
    "y = df['Exited'].copy()\n",
    "\n",
    "x = df.drop(columns=['Exited']).copy()\n",
    "\n",
    "# Разделяем данные для обучения и теста\n",
    "\n",
    "x_train, x_test, y_train, y_test = train_test_split(x, y, test_size=0.3, random_state=0)"
   ],
   "metadata": {
    "id": "70YxR24VUB72"
   },
   "execution_count": 67,
   "outputs": []
  },
  {
   "cell_type": "code",
   "source": [
    "# Импортируем класс для нормализации данных\n",
    "from sklearn.preprocessing import StandardScaler\n",
    "\n",
    "# Создаём объект StandardScaler\n",
    "scaler = StandardScaler()\n",
    "\n",
    "# Обучаем скалер на обучающих данных И преобразуем их\n",
    "x_train_scaled = scaler.fit_transform(x_train)\n",
    "\n",
    "# Преобразуем тестовые данные только с помощью уже обученного скалера\n",
    "x_test_scaled = scaler.transform(x_test)\n"
   ],
   "metadata": {
    "id": "98Pm1A0U63Gq"
   },
   "execution_count": 68,
   "outputs": []
  },
  {
   "cell_type": "code",
   "source": [
    "from sklearn.linear_model import LogisticRegression\n",
    "from sklearn.tree import DecisionTreeClassifier\n",
    "\n",
    "# Обучаем логистическую регрессию\n",
    "lr_model = LogisticRegression(random_state=42, max_iter=1000)\n",
    "lr_model.fit(x_train_scaled, y_train)\n",
    "\n",
    "\n",
    "# Обучаем дерево решений\n",
    "dt_model = DecisionTreeClassifier(random_state=42)\n",
    "dt_model.fit(x_train_scaled, y_train)\n"
   ],
   "metadata": {
    "colab": {
     "base_uri": "https://localhost:8080/",
     "height": 80
    },
    "id": "AwLQEj1o8Beq",
    "outputId": "830ae26c-2ec0-43fd-b30b-0374f682dfcd"
   },
   "execution_count": 69,
   "outputs": [
    {
     "output_type": "execute_result",
     "data": {
      "text/plain": [
       "DecisionTreeClassifier(random_state=42)"
      ],
      "text/html": [
       "<style>#sk-container-id-3 {\n",
       "  /* Definition of color scheme common for light and dark mode */\n",
       "  --sklearn-color-text: #000;\n",
       "  --sklearn-color-text-muted: #666;\n",
       "  --sklearn-color-line: gray;\n",
       "  /* Definition of color scheme for unfitted estimators */\n",
       "  --sklearn-color-unfitted-level-0: #fff5e6;\n",
       "  --sklearn-color-unfitted-level-1: #f6e4d2;\n",
       "  --sklearn-color-unfitted-level-2: #ffe0b3;\n",
       "  --sklearn-color-unfitted-level-3: chocolate;\n",
       "  /* Definition of color scheme for fitted estimators */\n",
       "  --sklearn-color-fitted-level-0: #f0f8ff;\n",
       "  --sklearn-color-fitted-level-1: #d4ebff;\n",
       "  --sklearn-color-fitted-level-2: #b3dbfd;\n",
       "  --sklearn-color-fitted-level-3: cornflowerblue;\n",
       "\n",
       "  /* Specific color for light theme */\n",
       "  --sklearn-color-text-on-default-background: var(--sg-text-color, var(--theme-code-foreground, var(--jp-content-font-color1, black)));\n",
       "  --sklearn-color-background: var(--sg-background-color, var(--theme-background, var(--jp-layout-color0, white)));\n",
       "  --sklearn-color-border-box: var(--sg-text-color, var(--theme-code-foreground, var(--jp-content-font-color1, black)));\n",
       "  --sklearn-color-icon: #696969;\n",
       "\n",
       "  @media (prefers-color-scheme: dark) {\n",
       "    /* Redefinition of color scheme for dark theme */\n",
       "    --sklearn-color-text-on-default-background: var(--sg-text-color, var(--theme-code-foreground, var(--jp-content-font-color1, white)));\n",
       "    --sklearn-color-background: var(--sg-background-color, var(--theme-background, var(--jp-layout-color0, #111)));\n",
       "    --sklearn-color-border-box: var(--sg-text-color, var(--theme-code-foreground, var(--jp-content-font-color1, white)));\n",
       "    --sklearn-color-icon: #878787;\n",
       "  }\n",
       "}\n",
       "\n",
       "#sk-container-id-3 {\n",
       "  color: var(--sklearn-color-text);\n",
       "}\n",
       "\n",
       "#sk-container-id-3 pre {\n",
       "  padding: 0;\n",
       "}\n",
       "\n",
       "#sk-container-id-3 input.sk-hidden--visually {\n",
       "  border: 0;\n",
       "  clip: rect(1px 1px 1px 1px);\n",
       "  clip: rect(1px, 1px, 1px, 1px);\n",
       "  height: 1px;\n",
       "  margin: -1px;\n",
       "  overflow: hidden;\n",
       "  padding: 0;\n",
       "  position: absolute;\n",
       "  width: 1px;\n",
       "}\n",
       "\n",
       "#sk-container-id-3 div.sk-dashed-wrapped {\n",
       "  border: 1px dashed var(--sklearn-color-line);\n",
       "  margin: 0 0.4em 0.5em 0.4em;\n",
       "  box-sizing: border-box;\n",
       "  padding-bottom: 0.4em;\n",
       "  background-color: var(--sklearn-color-background);\n",
       "}\n",
       "\n",
       "#sk-container-id-3 div.sk-container {\n",
       "  /* jupyter's `normalize.less` sets `[hidden] { display: none; }`\n",
       "     but bootstrap.min.css set `[hidden] { display: none !important; }`\n",
       "     so we also need the `!important` here to be able to override the\n",
       "     default hidden behavior on the sphinx rendered scikit-learn.org.\n",
       "     See: https://github.com/scikit-learn/scikit-learn/issues/21755 */\n",
       "  display: inline-block !important;\n",
       "  position: relative;\n",
       "}\n",
       "\n",
       "#sk-container-id-3 div.sk-text-repr-fallback {\n",
       "  display: none;\n",
       "}\n",
       "\n",
       "div.sk-parallel-item,\n",
       "div.sk-serial,\n",
       "div.sk-item {\n",
       "  /* draw centered vertical line to link estimators */\n",
       "  background-image: linear-gradient(var(--sklearn-color-text-on-default-background), var(--sklearn-color-text-on-default-background));\n",
       "  background-size: 2px 100%;\n",
       "  background-repeat: no-repeat;\n",
       "  background-position: center center;\n",
       "}\n",
       "\n",
       "/* Parallel-specific style estimator block */\n",
       "\n",
       "#sk-container-id-3 div.sk-parallel-item::after {\n",
       "  content: \"\";\n",
       "  width: 100%;\n",
       "  border-bottom: 2px solid var(--sklearn-color-text-on-default-background);\n",
       "  flex-grow: 1;\n",
       "}\n",
       "\n",
       "#sk-container-id-3 div.sk-parallel {\n",
       "  display: flex;\n",
       "  align-items: stretch;\n",
       "  justify-content: center;\n",
       "  background-color: var(--sklearn-color-background);\n",
       "  position: relative;\n",
       "}\n",
       "\n",
       "#sk-container-id-3 div.sk-parallel-item {\n",
       "  display: flex;\n",
       "  flex-direction: column;\n",
       "}\n",
       "\n",
       "#sk-container-id-3 div.sk-parallel-item:first-child::after {\n",
       "  align-self: flex-end;\n",
       "  width: 50%;\n",
       "}\n",
       "\n",
       "#sk-container-id-3 div.sk-parallel-item:last-child::after {\n",
       "  align-self: flex-start;\n",
       "  width: 50%;\n",
       "}\n",
       "\n",
       "#sk-container-id-3 div.sk-parallel-item:only-child::after {\n",
       "  width: 0;\n",
       "}\n",
       "\n",
       "/* Serial-specific style estimator block */\n",
       "\n",
       "#sk-container-id-3 div.sk-serial {\n",
       "  display: flex;\n",
       "  flex-direction: column;\n",
       "  align-items: center;\n",
       "  background-color: var(--sklearn-color-background);\n",
       "  padding-right: 1em;\n",
       "  padding-left: 1em;\n",
       "}\n",
       "\n",
       "\n",
       "/* Toggleable style: style used for estimator/Pipeline/ColumnTransformer box that is\n",
       "clickable and can be expanded/collapsed.\n",
       "- Pipeline and ColumnTransformer use this feature and define the default style\n",
       "- Estimators will overwrite some part of the style using the `sk-estimator` class\n",
       "*/\n",
       "\n",
       "/* Pipeline and ColumnTransformer style (default) */\n",
       "\n",
       "#sk-container-id-3 div.sk-toggleable {\n",
       "  /* Default theme specific background. It is overwritten whether we have a\n",
       "  specific estimator or a Pipeline/ColumnTransformer */\n",
       "  background-color: var(--sklearn-color-background);\n",
       "}\n",
       "\n",
       "/* Toggleable label */\n",
       "#sk-container-id-3 label.sk-toggleable__label {\n",
       "  cursor: pointer;\n",
       "  display: flex;\n",
       "  width: 100%;\n",
       "  margin-bottom: 0;\n",
       "  padding: 0.5em;\n",
       "  box-sizing: border-box;\n",
       "  text-align: center;\n",
       "  align-items: start;\n",
       "  justify-content: space-between;\n",
       "  gap: 0.5em;\n",
       "}\n",
       "\n",
       "#sk-container-id-3 label.sk-toggleable__label .caption {\n",
       "  font-size: 0.6rem;\n",
       "  font-weight: lighter;\n",
       "  color: var(--sklearn-color-text-muted);\n",
       "}\n",
       "\n",
       "#sk-container-id-3 label.sk-toggleable__label-arrow:before {\n",
       "  /* Arrow on the left of the label */\n",
       "  content: \"▸\";\n",
       "  float: left;\n",
       "  margin-right: 0.25em;\n",
       "  color: var(--sklearn-color-icon);\n",
       "}\n",
       "\n",
       "#sk-container-id-3 label.sk-toggleable__label-arrow:hover:before {\n",
       "  color: var(--sklearn-color-text);\n",
       "}\n",
       "\n",
       "/* Toggleable content - dropdown */\n",
       "\n",
       "#sk-container-id-3 div.sk-toggleable__content {\n",
       "  max-height: 0;\n",
       "  max-width: 0;\n",
       "  overflow: hidden;\n",
       "  text-align: left;\n",
       "  /* unfitted */\n",
       "  background-color: var(--sklearn-color-unfitted-level-0);\n",
       "}\n",
       "\n",
       "#sk-container-id-3 div.sk-toggleable__content.fitted {\n",
       "  /* fitted */\n",
       "  background-color: var(--sklearn-color-fitted-level-0);\n",
       "}\n",
       "\n",
       "#sk-container-id-3 div.sk-toggleable__content pre {\n",
       "  margin: 0.2em;\n",
       "  border-radius: 0.25em;\n",
       "  color: var(--sklearn-color-text);\n",
       "  /* unfitted */\n",
       "  background-color: var(--sklearn-color-unfitted-level-0);\n",
       "}\n",
       "\n",
       "#sk-container-id-3 div.sk-toggleable__content.fitted pre {\n",
       "  /* unfitted */\n",
       "  background-color: var(--sklearn-color-fitted-level-0);\n",
       "}\n",
       "\n",
       "#sk-container-id-3 input.sk-toggleable__control:checked~div.sk-toggleable__content {\n",
       "  /* Expand drop-down */\n",
       "  max-height: 200px;\n",
       "  max-width: 100%;\n",
       "  overflow: auto;\n",
       "}\n",
       "\n",
       "#sk-container-id-3 input.sk-toggleable__control:checked~label.sk-toggleable__label-arrow:before {\n",
       "  content: \"▾\";\n",
       "}\n",
       "\n",
       "/* Pipeline/ColumnTransformer-specific style */\n",
       "\n",
       "#sk-container-id-3 div.sk-label input.sk-toggleable__control:checked~label.sk-toggleable__label {\n",
       "  color: var(--sklearn-color-text);\n",
       "  background-color: var(--sklearn-color-unfitted-level-2);\n",
       "}\n",
       "\n",
       "#sk-container-id-3 div.sk-label.fitted input.sk-toggleable__control:checked~label.sk-toggleable__label {\n",
       "  background-color: var(--sklearn-color-fitted-level-2);\n",
       "}\n",
       "\n",
       "/* Estimator-specific style */\n",
       "\n",
       "/* Colorize estimator box */\n",
       "#sk-container-id-3 div.sk-estimator input.sk-toggleable__control:checked~label.sk-toggleable__label {\n",
       "  /* unfitted */\n",
       "  background-color: var(--sklearn-color-unfitted-level-2);\n",
       "}\n",
       "\n",
       "#sk-container-id-3 div.sk-estimator.fitted input.sk-toggleable__control:checked~label.sk-toggleable__label {\n",
       "  /* fitted */\n",
       "  background-color: var(--sklearn-color-fitted-level-2);\n",
       "}\n",
       "\n",
       "#sk-container-id-3 div.sk-label label.sk-toggleable__label,\n",
       "#sk-container-id-3 div.sk-label label {\n",
       "  /* The background is the default theme color */\n",
       "  color: var(--sklearn-color-text-on-default-background);\n",
       "}\n",
       "\n",
       "/* On hover, darken the color of the background */\n",
       "#sk-container-id-3 div.sk-label:hover label.sk-toggleable__label {\n",
       "  color: var(--sklearn-color-text);\n",
       "  background-color: var(--sklearn-color-unfitted-level-2);\n",
       "}\n",
       "\n",
       "/* Label box, darken color on hover, fitted */\n",
       "#sk-container-id-3 div.sk-label.fitted:hover label.sk-toggleable__label.fitted {\n",
       "  color: var(--sklearn-color-text);\n",
       "  background-color: var(--sklearn-color-fitted-level-2);\n",
       "}\n",
       "\n",
       "/* Estimator label */\n",
       "\n",
       "#sk-container-id-3 div.sk-label label {\n",
       "  font-family: monospace;\n",
       "  font-weight: bold;\n",
       "  display: inline-block;\n",
       "  line-height: 1.2em;\n",
       "}\n",
       "\n",
       "#sk-container-id-3 div.sk-label-container {\n",
       "  text-align: center;\n",
       "}\n",
       "\n",
       "/* Estimator-specific */\n",
       "#sk-container-id-3 div.sk-estimator {\n",
       "  font-family: monospace;\n",
       "  border: 1px dotted var(--sklearn-color-border-box);\n",
       "  border-radius: 0.25em;\n",
       "  box-sizing: border-box;\n",
       "  margin-bottom: 0.5em;\n",
       "  /* unfitted */\n",
       "  background-color: var(--sklearn-color-unfitted-level-0);\n",
       "}\n",
       "\n",
       "#sk-container-id-3 div.sk-estimator.fitted {\n",
       "  /* fitted */\n",
       "  background-color: var(--sklearn-color-fitted-level-0);\n",
       "}\n",
       "\n",
       "/* on hover */\n",
       "#sk-container-id-3 div.sk-estimator:hover {\n",
       "  /* unfitted */\n",
       "  background-color: var(--sklearn-color-unfitted-level-2);\n",
       "}\n",
       "\n",
       "#sk-container-id-3 div.sk-estimator.fitted:hover {\n",
       "  /* fitted */\n",
       "  background-color: var(--sklearn-color-fitted-level-2);\n",
       "}\n",
       "\n",
       "/* Specification for estimator info (e.g. \"i\" and \"?\") */\n",
       "\n",
       "/* Common style for \"i\" and \"?\" */\n",
       "\n",
       ".sk-estimator-doc-link,\n",
       "a:link.sk-estimator-doc-link,\n",
       "a:visited.sk-estimator-doc-link {\n",
       "  float: right;\n",
       "  font-size: smaller;\n",
       "  line-height: 1em;\n",
       "  font-family: monospace;\n",
       "  background-color: var(--sklearn-color-background);\n",
       "  border-radius: 1em;\n",
       "  height: 1em;\n",
       "  width: 1em;\n",
       "  text-decoration: none !important;\n",
       "  margin-left: 0.5em;\n",
       "  text-align: center;\n",
       "  /* unfitted */\n",
       "  border: var(--sklearn-color-unfitted-level-1) 1pt solid;\n",
       "  color: var(--sklearn-color-unfitted-level-1);\n",
       "}\n",
       "\n",
       ".sk-estimator-doc-link.fitted,\n",
       "a:link.sk-estimator-doc-link.fitted,\n",
       "a:visited.sk-estimator-doc-link.fitted {\n",
       "  /* fitted */\n",
       "  border: var(--sklearn-color-fitted-level-1) 1pt solid;\n",
       "  color: var(--sklearn-color-fitted-level-1);\n",
       "}\n",
       "\n",
       "/* On hover */\n",
       "div.sk-estimator:hover .sk-estimator-doc-link:hover,\n",
       ".sk-estimator-doc-link:hover,\n",
       "div.sk-label-container:hover .sk-estimator-doc-link:hover,\n",
       ".sk-estimator-doc-link:hover {\n",
       "  /* unfitted */\n",
       "  background-color: var(--sklearn-color-unfitted-level-3);\n",
       "  color: var(--sklearn-color-background);\n",
       "  text-decoration: none;\n",
       "}\n",
       "\n",
       "div.sk-estimator.fitted:hover .sk-estimator-doc-link.fitted:hover,\n",
       ".sk-estimator-doc-link.fitted:hover,\n",
       "div.sk-label-container:hover .sk-estimator-doc-link.fitted:hover,\n",
       ".sk-estimator-doc-link.fitted:hover {\n",
       "  /* fitted */\n",
       "  background-color: var(--sklearn-color-fitted-level-3);\n",
       "  color: var(--sklearn-color-background);\n",
       "  text-decoration: none;\n",
       "}\n",
       "\n",
       "/* Span, style for the box shown on hovering the info icon */\n",
       ".sk-estimator-doc-link span {\n",
       "  display: none;\n",
       "  z-index: 9999;\n",
       "  position: relative;\n",
       "  font-weight: normal;\n",
       "  right: .2ex;\n",
       "  padding: .5ex;\n",
       "  margin: .5ex;\n",
       "  width: min-content;\n",
       "  min-width: 20ex;\n",
       "  max-width: 50ex;\n",
       "  color: var(--sklearn-color-text);\n",
       "  box-shadow: 2pt 2pt 4pt #999;\n",
       "  /* unfitted */\n",
       "  background: var(--sklearn-color-unfitted-level-0);\n",
       "  border: .5pt solid var(--sklearn-color-unfitted-level-3);\n",
       "}\n",
       "\n",
       ".sk-estimator-doc-link.fitted span {\n",
       "  /* fitted */\n",
       "  background: var(--sklearn-color-fitted-level-0);\n",
       "  border: var(--sklearn-color-fitted-level-3);\n",
       "}\n",
       "\n",
       ".sk-estimator-doc-link:hover span {\n",
       "  display: block;\n",
       "}\n",
       "\n",
       "/* \"?\"-specific style due to the `<a>` HTML tag */\n",
       "\n",
       "#sk-container-id-3 a.estimator_doc_link {\n",
       "  float: right;\n",
       "  font-size: 1rem;\n",
       "  line-height: 1em;\n",
       "  font-family: monospace;\n",
       "  background-color: var(--sklearn-color-background);\n",
       "  border-radius: 1rem;\n",
       "  height: 1rem;\n",
       "  width: 1rem;\n",
       "  text-decoration: none;\n",
       "  /* unfitted */\n",
       "  color: var(--sklearn-color-unfitted-level-1);\n",
       "  border: var(--sklearn-color-unfitted-level-1) 1pt solid;\n",
       "}\n",
       "\n",
       "#sk-container-id-3 a.estimator_doc_link.fitted {\n",
       "  /* fitted */\n",
       "  border: var(--sklearn-color-fitted-level-1) 1pt solid;\n",
       "  color: var(--sklearn-color-fitted-level-1);\n",
       "}\n",
       "\n",
       "/* On hover */\n",
       "#sk-container-id-3 a.estimator_doc_link:hover {\n",
       "  /* unfitted */\n",
       "  background-color: var(--sklearn-color-unfitted-level-3);\n",
       "  color: var(--sklearn-color-background);\n",
       "  text-decoration: none;\n",
       "}\n",
       "\n",
       "#sk-container-id-3 a.estimator_doc_link.fitted:hover {\n",
       "  /* fitted */\n",
       "  background-color: var(--sklearn-color-fitted-level-3);\n",
       "}\n",
       "</style><div id=\"sk-container-id-3\" class=\"sk-top-container\"><div class=\"sk-text-repr-fallback\"><pre>DecisionTreeClassifier(random_state=42)</pre><b>In a Jupyter environment, please rerun this cell to show the HTML representation or trust the notebook. <br />On GitHub, the HTML representation is unable to render, please try loading this page with nbviewer.org.</b></div><div class=\"sk-container\" hidden><div class=\"sk-item\"><div class=\"sk-estimator fitted sk-toggleable\"><input class=\"sk-toggleable__control sk-hidden--visually\" id=\"sk-estimator-id-3\" type=\"checkbox\" checked><label for=\"sk-estimator-id-3\" class=\"sk-toggleable__label fitted sk-toggleable__label-arrow\"><div><div>DecisionTreeClassifier</div></div><div><a class=\"sk-estimator-doc-link fitted\" rel=\"noreferrer\" target=\"_blank\" href=\"https://scikit-learn.org/1.6/modules/generated/sklearn.tree.DecisionTreeClassifier.html\">?<span>Documentation for DecisionTreeClassifier</span></a><span class=\"sk-estimator-doc-link fitted\">i<span>Fitted</span></span></div></label><div class=\"sk-toggleable__content fitted\"><pre>DecisionTreeClassifier(random_state=42)</pre></div> </div></div></div></div>"
      ]
     },
     "metadata": {},
     "execution_count": 69
    }
   ]
  },
  {
   "cell_type": "code",
   "source": [
    "# Делаем предсказания\n",
    "y_pred_lr = lr_model.predict(x_test_scaled)\n",
    "y_pred_dt = dt_model.predict(x_test_scaled)\n",
    "\n",
    "y_proba_lr = lr_model.predict_proba(x_test_scaled)[:, 1]\n",
    "y_proba_dt = dt_model.predict_proba(x_test_scaled)[:, 1]"
   ],
   "metadata": {
    "id": "WNs19o9b8CDu"
   },
   "execution_count": 70,
   "outputs": []
  },
  {
   "cell_type": "code",
   "source": [
    "from sklearn.metrics import accuracy_score, precision_score, recall_score, f1_score, roc_auc_score, confusion_matrix, classification_report\n",
    "import seaborn as sns\n",
    "# import matplotlib.pyplot as plt\n",
    "\n",
    "# Функция для вывода метрик\n",
    "def print_metrics(y_true, y_pred, y_proba, model_name):\n",
    "    print(f\"\\n=== {model_name} ===\")\n",
    "    print(f\"Accuracy:  {accuracy_score(y_true, y_pred):.4f}\")\n",
    "    print(f\"Precision: {precision_score(y_true, y_pred):.4f}\")\n",
    "    print(f\"Recall:    {recall_score(y_true, y_pred):.4f}\")\n",
    "    print(f\"F1-score:  {f1_score(y_true, y_pred):.4f}\")\n",
    "    print(f\"ROC-AUC:   {roc_auc_score(y_true, y_proba):.4f}\")"
   ],
   "metadata": {
    "id": "uypXCqan8oNF"
   },
   "execution_count": 71,
   "outputs": []
  },
  {
   "cell_type": "code",
   "source": [
    "# 12. Вывод результатов\n",
    "print_metrics(y_test, y_pred_lr, y_proba_lr, \"Logistic Regression\")\n",
    "print_metrics(y_test, y_pred_dt, y_proba_dt, \"Decision Tree\")"
   ],
   "metadata": {
    "colab": {
     "base_uri": "https://localhost:8080/"
    },
    "id": "xIdys4Ff_bF9",
    "outputId": "6e899241-a6ca-40bd-9bd5-32be3711e397"
   },
   "execution_count": 72,
   "outputs": [
    {
     "output_type": "stream",
     "name": "stdout",
     "text": [
      "\n",
      "=== Logistic Regression ===\n",
      "Accuracy:  0.8060\n",
      "Precision: 0.5809\n",
      "Recall:    0.2254\n",
      "F1-score:  0.3248\n",
      "ROC-AUC:   0.7717\n",
      "\n",
      "=== Decision Tree ===\n",
      "Accuracy:  0.7950\n",
      "Precision: 0.5045\n",
      "Recall:    0.5411\n",
      "F1-score:  0.5221\n",
      "ROC-AUC:   0.7012\n"
     ]
    }
   ]
  },
  {
   "cell_type": "markdown",
   "source": [
    "F1-score:  0.3248 - не соответствует требованиям\n",
    "F1-score:  0.5221 - не соответствует требованиям"
   ],
   "metadata": {
    "id": "EZwyukkGAvVa"
   }
  },
  {
   "cell_type": "code",
   "source": [
    "# Логистическая регрессия с балансировкой через веса\n",
    "lr_balanced = LogisticRegression(class_weight='balanced', random_state=42)\n",
    "dt_balanced = DecisionTreeClassifier(class_weight='balanced', random_state=42)\n",
    "\n",
    "lr_balanced.fit(x_train_scaled, y_train)\n",
    "dt_balanced.fit(x_train_scaled, y_train)\n",
    "\n",
    "y_pred_lr_bal = lr_balanced.predict(x_test_scaled)\n",
    "y_pred_dt_bal = dt_balanced.predict(x_test_scaled)\n",
    "y_proba_lr_bal = lr_balanced.predict_proba(x_test_scaled)[:, 1]\n",
    "y_proba_dt_bal = dt_balanced.predict_proba(x_test_scaled)[:, 1]\n",
    "\n",
    "# Вывод метрик\n",
    "print_metrics(y_test, y_pred_lr_bal, y_proba_lr_bal, \"Logistic Regression (Balanced Weights)\")\n",
    "print_metrics(y_test, y_pred_dt_bal, y_proba_dt_bal, \"Decision Tree (Balanced Weights)\")"
   ],
   "metadata": {
    "id": "iarRcTl_Auz4",
    "colab": {
     "base_uri": "https://localhost:8080/"
    },
    "outputId": "3ac50b3f-afe7-4f33-b6e9-e41c27bc81ab"
   },
   "execution_count": 73,
   "outputs": [
    {
     "output_type": "stream",
     "name": "stdout",
     "text": [
      "\n",
      "=== Logistic Regression (Balanced Weights) ===\n",
      "Accuracy:  0.7067\n",
      "Precision: 0.3883\n",
      "Recall:    0.7246\n",
      "F1-score:  0.5056\n",
      "ROC-AUC:   0.7745\n",
      "\n",
      "=== Decision Tree (Balanced Weights) ===\n",
      "Accuracy:  0.7937\n",
      "Precision: 0.5016\n",
      "Recall:    0.5121\n",
      "F1-score:  0.5068\n",
      "ROC-AUC:   0.6896\n"
     ]
    }
   ]
  },
  {
   "cell_type": "markdown",
   "source": [
    "После балансировки весов моделей лучше стала только Logistic Regression, а Decision Tree стало даже хуже, оба из них не достинги нормальных коэффициентов по заданию"
   ],
   "metadata": {
    "id": "NqDyeJq2chMi"
   }
  },
  {
   "cell_type": "code",
   "source": [
    "from imblearn.over_sampling import SMOTE\n",
    "\n",
    "# Применяем SMOTE только к обучающим данным\n",
    "smote = SMOTE(random_state=42)\n",
    "x_train_smote, y_train_smote = smote.fit_resample(x_train_scaled, y_train)\n",
    "\n",
    "# Обучаем модели на сбалансированных данных\n",
    "lr_smote = LogisticRegression(random_state=42)\n",
    "dt_smote = DecisionTreeClassifier(random_state=42)\n",
    "\n",
    "lr_smote.fit(x_train_smote, y_train_smote)\n",
    "dt_smote.fit(x_train_smote, y_train_smote)\n",
    "\n",
    "y_pred_lr_smt = lr_smote.predict(x_test_scaled)\n",
    "y_pred_dt_smt = dt_smote.predict(x_test_scaled)\n",
    "y_proba_lr_smt = lr_smote.predict_proba(x_test_scaled)[:, 1]\n",
    "y_proba_dt_smt = dt_smote.predict_proba(x_test_scaled)[:, 1]\n",
    "\n",
    "# Вывод метрик\n",
    "print_metrics(y_test, y_pred_lr_smt, y_proba_lr_smt, \"Logistic Regression (Balanced Data)\")\n",
    "print_metrics(y_test, y_pred_dt_smt, y_proba_dt_smt, \"Decision Tree (Balanced Data)\")"
   ],
   "metadata": {
    "colab": {
     "base_uri": "https://localhost:8080/"
    },
    "id": "NIO9g5ascohE",
    "outputId": "d68e65db-bc55-4c4e-b6f2-449c602e54bd"
   },
   "execution_count": 74,
   "outputs": [
    {
     "output_type": "stream",
     "name": "stdout",
     "text": [
      "\n",
      "=== Logistic Regression (Balanced Data) ===\n",
      "Accuracy:  0.7070\n",
      "Precision: 0.3868\n",
      "Recall:    0.7101\n",
      "F1-score:  0.5009\n",
      "ROC-AUC:   0.7730\n",
      "\n",
      "=== Decision Tree (Balanced Data) ===\n",
      "Accuracy:  0.7613\n",
      "Precision: 0.4398\n",
      "Recall:    0.5588\n",
      "F1-score:  0.4922\n",
      "ROC-AUC:   0.6865\n"
     ]
    }
   ]
  },
  {
   "cell_type": "markdown",
   "source": [
    "После балансировки данных Logistic Regression стал выше, а Decision Tree стал хуже, чем без вмешательства, оба из них не достинги нормальных коэффициентов по заданию"
   ],
   "metadata": {
    "id": "dER22qcydEAS"
   }
  },
  {
   "cell_type": "code",
   "source": [
    "from sklearn.ensemble import RandomForestClassifier\n",
    "\n",
    "# Случайный лес с балансировкой классов\n",
    "rf_balanced = RandomForestClassifier(\n",
    "    n_estimators=100,\n",
    "    random_state=42,\n",
    "    n_jobs=-1\n",
    ")\n",
    "\n",
    "# Обучаем на обучающих данных\n",
    "rf_balanced.fit(x_train_scaled, y_train)\n",
    "\n",
    "# Предсказания на тестовой выборке\n",
    "y_pred_rf_bal = rf_balanced.predict(x_test_scaled)\n",
    "y_proba_rf_bal = rf_balanced.predict_proba(x_test_scaled)[:, 1]\n",
    "\n",
    "# Вывод метрик\n",
    "print_metrics(y_test, y_pred_rf_bal, y_proba_rf_bal, \"Random Forest\")"
   ],
   "metadata": {
    "colab": {
     "base_uri": "https://localhost:8080/"
    },
    "id": "ATEsNhs8dDZZ",
    "outputId": "c91b0d1c-763d-4ef1-eebc-f141973337c1"
   },
   "execution_count": 75,
   "outputs": [
    {
     "output_type": "stream",
     "name": "stdout",
     "text": [
      "\n",
      "=== Random Forest ===\n",
      "Accuracy:  0.8633\n",
      "Precision: 0.7530\n",
      "Recall:    0.5056\n",
      "F1-score:  0.6050\n",
      "ROC-AUC:   0.8669\n"
     ]
    }
   ]
  },
  {
   "cell_type": "markdown",
   "source": [
    "После обучения модели RandomForestClassifier был достигнут нужный результат в F1-score больше чем 0.59"
   ],
   "metadata": {
    "id": "t-ZSmVr0dqQU"
   }
  },
  {
   "cell_type": "markdown",
   "source": [
    "Accuracy - 0.8633 -Модель верно классифицирует 86% всех клиентов. Но при дисбалансе классов (например, только 20% клиентов уходят) эта метрика может вводить в заблуждение.\n",
    "Precision - 0.7530 - Из всех клиентов, которых модель пометила как «уходящих» 75% действительно уйдут. Это важно, если каждое вмешательство (например, звонок менеджера, предложение бонуса) дорого.\n",
    "Recall - 0.5056 - Модель находит половину всех реальных уходящих клиентов.Остальные 49% уходят незамеченными.\n",
    "F1-score - 0.6050 - Гармоническое среднее Precision и Recall.\n",
    "ROC AUC - 0.8669 - Высокая способность модели\n",
    "разделять классы - у неё хорошая дискриминационная сила независимо от порога"
   ],
   "metadata": {
    "id": "MZn9CPwad3J3"
   }
  },
  {
   "cell_type": "markdown",
   "source": [
    "ROC AUC оценивает качество модели по всем возможным порогам классификации. Он показывает, насколько хорошо модель ранжирует клиентов: уходящие — выше, остающиеся — ниже.\n",
    "\n",
    "F1-score зависит от конкретного порога (по умолчанию — 0.5). Он фокусируется на балансе между точностью и полнотой именно при этом пороге."
   ],
   "metadata": {
    "id": "YJKLF3fFeisz"
   }
  },
  {
   "cell_type": "markdown",
   "source": [
    "Модель хорошо ранжирует, но при стандартном пороге 0.5 она осторожна: помечает как «уходящих» только тех, у кого вероятность высока → высокая Precision, но низкий Recall.\n",
    "Это типично для задач с дисбалансом: модель «боится» ложно положительных срабатываний."
   ],
   "metadata": {
    "id": "7WpREwREejNZ"
   }
  },
  {
   "cell_type": "markdown",
   "source": [
    "Рекомендация для бизнеса - настроить порог классификации под бизнес-цель.\n",
    "Если важно не пропустить уходящих (например, клиенты с высоким балансом) - нужно снизить порог (например, до 0.3).\n",
    "При это Recall вырастет, но Precision упадёт (больше ложных тревог).\n",
    "Если каждое вмешательство дорого, то нужно повысить порог (например, до 0.7).\n",
    "Тогда Precision вырастет, но многие уходящие останутся незамеченными.\n",
    "Надо построить кривую Precision-Recall и выберать порог, максимизирующий F1 или бизнес-метрику (например, прибыль от удержания)."
   ],
   "metadata": {
    "id": "Q32FkhYPe8Oo"
   }
  }
 ]
}
